{
 "cells": [
  {
   "cell_type": "markdown",
   "metadata": {
    "id": "8i8tYoeIFPp-"
   },
   "source": [
    "## Basic Operations\n",
    "First few lines of code"
   ]
  },
  {
   "cell_type": "code",
   "execution_count": 10,
   "metadata": {
    "id": "moHUGPTjC-Qs"
   },
   "outputs": [
    {
     "name": "stdout",
     "output_type": "stream",
     "text": [
      "650\n",
      "323\n",
      "Python code\n",
      "('x:', 7)\n"
     ]
    }
   ],
   "source": [
    "print(601+49)\n",
    "print(19*17)\n",
    "print(\"Python code\")\n",
    "\n",
    "x=7\n",
    "print('x:',x)"
   ]
  },
  {
   "cell_type": "markdown",
   "metadata": {
    "id": "ym_1UvHqNEuw"
   },
   "source": [
    "## Types of objects in python"
   ]
  },
  {
   "cell_type": "code",
   "execution_count": 11,
   "metadata": {
    "id": "_sizxbVhM4wV"
   },
   "outputs": [
    {
     "name": "stdout",
     "output_type": "stream",
     "text": [
      "30000\n",
      "('type of object is ', <type 'int'>)\n",
      "5000.25\n",
      "('type of object is ', <type 'float'>)\n"
     ]
    }
   ],
   "source": [
    "# Example 1\n",
    "sales=30000\n",
    "print(sales)\n",
    "print(\"type of object is \", type(sales)) \n",
    "\n",
    "#Example 2\n",
    "Avg_expenses =5000.25\n",
    "print(Avg_expenses)\n",
    "print(\"type of object is \", type(Avg_expenses)) "
   ]
  },
  {
   "cell_type": "markdown",
   "metadata": {
    "id": "K67x7BEzPWIA"
   },
   "source": [
    "## Lists in python"
   ]
  },
  {
   "cell_type": "markdown",
   "metadata": {
    "id": "9kVhdjH_Paji"
   },
   "source": [
    "### Defining lists"
   ]
  },
  {
   "cell_type": "code",
   "execution_count": 12,
   "metadata": {
    "id": "tzi3g8oGPUHW"
   },
   "outputs": [
    {
     "name": "stdout",
     "output_type": "stream",
     "text": [
      "<type 'list'>\n"
     ]
    }
   ],
   "source": [
    "mylist1=[\"Sheldon\",\"Tommy\", \"Benny\"]\n",
    "print(type(mylist1))"
   ]
  },
  {
   "cell_type": "markdown",
   "metadata": {
    "id": "6PBCTfQYPgVQ"
   },
   "source": [
    "### Accessing values from a list"
   ]
  },
  {
   "cell_type": "code",
   "execution_count": 13,
   "metadata": {
    "id": "4PpseowsPesf"
   },
   "outputs": [
    {
     "name": "stdout",
     "output_type": "stream",
     "text": [
      "Sheldon\n",
      "Tommy\n"
     ]
    }
   ],
   "source": [
    "print(mylist1[0])\n",
    "print(mylist1[1])"
   ]
  },
  {
   "cell_type": "markdown",
   "metadata": {
    "id": "JKr_OltFPph_"
   },
   "source": [
    "### Length of strings\n",
    "Number of elements in the list can be accessed by using len() function "
   ]
  },
  {
   "cell_type": "code",
   "execution_count": 14,
   "metadata": {
    "id": "V2ifWC5JPm4h"
   },
   "outputs": [
    {
     "data": {
      "text/plain": [
       "3"
      ]
     },
     "execution_count": 14,
     "metadata": {},
     "output_type": "execute_result"
    }
   ],
   "source": [
    "len(mylist1)"
   ]
  },
  {
   "cell_type": "markdown",
   "metadata": {
    "id": "-xh7svOpP3AT"
   },
   "source": [
    "### List appending or combining two lists into one"
   ]
  },
  {
   "cell_type": "code",
   "execution_count": 15,
   "metadata": {
    "id": "ml59o0qxPzF7"
   },
   "outputs": [
    {
     "name": "stdout",
     "output_type": "stream",
     "text": [
      "['Sheldon', 'Tommy', 'Benny', 'Ken', 'Bill']\n",
      "['Sheldon', 'Tommy', 'Benny', 'Ken', 'Bill', 'Mary']\n"
     ]
    }
   ],
   "source": [
    "mylist2=[\"Ken\",\"Bill\"]\n",
    "new_list=mylist1 + mylist2\n",
    "print(new_list)\n",
    "new_list.append(\"Mary\")\n",
    "print(new_list)"
   ]
  },
  {
   "cell_type": "markdown",
   "metadata": {
    "id": "kbfpdLViP-6g"
   },
   "source": [
    "### Updating an element in the list"
   ]
  },
  {
   "cell_type": "code",
   "execution_count": 16,
   "metadata": {
    "id": "EkvUuHW1P7K_"
   },
   "outputs": [
    {
     "name": "stdout",
     "output_type": "stream",
     "text": [
      "('actual list', ['Sheldon', 'Tommy', 'Benny'])\n",
      "('list after updating', ['John', 'Tommy', 'Benny'])\n"
     ]
    }
   ],
   "source": [
    "print(\"actual list\",mylist1)\n",
    "mylist1[0]=\"John\"\n",
    "print(\"list after updating\" ,mylist1)"
   ]
  },
  {
   "cell_type": "markdown",
   "metadata": {
    "id": "7knhtGY7QGYo"
   },
   "source": [
    "### Deleting an element from the list"
   ]
  },
  {
   "cell_type": "code",
   "execution_count": 17,
   "metadata": {
    "id": "4uZXrJKEQEUy"
   },
   "outputs": [
    {
     "name": "stdout",
     "output_type": "stream",
     "text": [
      "('actual list', ['Ken', 'Bill'])\n",
      "('list after deleting', ['Bill'])\n"
     ]
    }
   ],
   "source": [
    "print(\"actual list\",mylist2)\n",
    "del mylist2[0]\n",
    "print(\"list after deleting\" ,mylist2)"
   ]
  },
  {
   "cell_type": "markdown",
   "metadata": {
    "id": "BySeZvirQNG_"
   },
   "source": [
    "## Difference between array and a list "
   ]
  },
  {
   "cell_type": "code",
   "execution_count": 18,
   "metadata": {
    "id": "dvPiGppXQLoj"
   },
   "outputs": [
    {
     "name": "stdout",
     "output_type": "stream",
     "text": [
      "[1, 7, 6, 6, 2, 2]\n",
      "[7 9 8]\n"
     ]
    }
   ],
   "source": [
    "val1=[1,7,6]\n",
    "val2=[6,2,2]\n",
    "val3=val1+val2\n",
    "print(val3)\n",
    "\n",
    "import numpy as np\n",
    "val4=np.array(val1)+np.array(val2)\n",
    "print(val4)"
   ]
  },
  {
   "cell_type": "code",
   "execution_count": 19,
   "metadata": {
    "id": "QZB67l2pQUQ5"
   },
   "outputs": [
    {
     "name": "stdout",
     "output_type": "stream",
     "text": [
      "['John', 1500, 'LA']\n"
     ]
    }
   ],
   "source": [
    "details=[\"John\", 1500, \"LA\"]\n",
    "print(details)"
   ]
  },
  {
   "cell_type": "markdown",
   "metadata": {
    "id": "Mc4jYU7fQfoT"
   },
   "source": [
    "Lists can contain different datatypes."
   ]
  },
  {
   "cell_type": "code",
   "execution_count": 20,
   "metadata": {
    "id": "9Y6m5FvYQYGr"
   },
   "outputs": [
    {
     "name": "stdout",
     "output_type": "stream",
     "text": [
      "['John', 1500, 'LA', ['John', 'Tommy', 'Benny']]\n"
     ]
    }
   ],
   "source": [
    "details_all=[\"John\", 1500, \"LA\",mylist1 ]\n",
    "print(details_all)"
   ]
  },
  {
   "cell_type": "markdown",
   "metadata": {
    "id": "aWLaXqx5QqJ7"
   },
   "source": [
    "We can add list inside a list."
   ]
  },
  {
   "cell_type": "markdown",
   "metadata": {
    "id": "eoYvVO8bUV7M"
   },
   "source": [
    "## Packages in python"
   ]
  },
  {
   "cell_type": "code",
   "execution_count": 21,
   "metadata": {
    "id": "cDd4UjLWS_ED"
   },
   "outputs": [
    {
     "ename": "NameError",
     "evalue": "name 'log' is not defined",
     "output_type": "error",
     "traceback": [
      "\u001b[0;31m---------------------------------------------------------------------------\u001b[0m",
      "\u001b[0;31mNameError\u001b[0m                                 Traceback (most recent call last)",
      "\u001b[0;32m<ipython-input-21-a4265d6da271>\u001b[0m in \u001b[0;36m<module>\u001b[0;34m()\u001b[0m\n\u001b[0;32m----> 1\u001b[0;31m \u001b[0;32mprint\u001b[0m\u001b[0;34m(\u001b[0m\u001b[0mlog\u001b[0m\u001b[0;34m(\u001b[0m\u001b[0;36m10\u001b[0m\u001b[0;34m)\u001b[0m\u001b[0;34m)\u001b[0m\u001b[0;34m\u001b[0m\u001b[0m\n\u001b[0m",
      "\u001b[0;31mNameError\u001b[0m: name 'log' is not defined"
     ]
    }
   ],
   "source": [
    "print(log(10))"
   ]
  },
  {
   "cell_type": "code",
   "execution_count": 22,
   "metadata": {
    "id": "81tOVSulUfjq"
   },
   "outputs": [
    {
     "ename": "NameError",
     "evalue": "name 'sqrt' is not defined",
     "output_type": "error",
     "traceback": [
      "\u001b[0;31m---------------------------------------------------------------------------\u001b[0m",
      "\u001b[0;31mNameError\u001b[0m                                 Traceback (most recent call last)",
      "\u001b[0;32m<ipython-input-22-112b573c917c>\u001b[0m in \u001b[0;36m<module>\u001b[0;34m()\u001b[0m\n\u001b[0;32m----> 1\u001b[0;31m \u001b[0;32mprint\u001b[0m\u001b[0;34m(\u001b[0m\u001b[0msqrt\u001b[0m\u001b[0;34m(\u001b[0m\u001b[0;36m256\u001b[0m\u001b[0;34m)\u001b[0m\u001b[0;34m)\u001b[0m\u001b[0;34m\u001b[0m\u001b[0m\n\u001b[0m",
      "\u001b[0;31mNameError\u001b[0m: name 'sqrt' is not defined"
     ]
    }
   ],
   "source": [
    "print(sqrt(256))"
   ]
  },
  {
   "cell_type": "markdown",
   "metadata": {
    "id": "TfBK2V57UuzQ"
   },
   "source": [
    "Python is throwing errors. It is not due to the wrong syntax or erroneous function names. Python is a multi-purpose language; it doesn’t have log as one of its core functions. Python doesn’t have a square root function either.\n",
    "\n",
    "Python contains a package called math. Just import math package, and you can now safely use log and sqrt."
   ]
  },
  {
   "cell_type": "code",
   "execution_count": 23,
   "metadata": {
    "id": "AXAH46BRUtF3"
   },
   "outputs": [
    {
     "name": "stdout",
     "output_type": "stream",
     "text": [
      "2.30258509299\n",
      "16.0\n"
     ]
    }
   ],
   "source": [
    "import math\n",
    "print(math.log(10))\n",
    "print(math.sqrt(256))"
   ]
  },
  {
   "cell_type": "markdown",
   "metadata": {
    "id": "G58InpB6VBmi"
   },
   "source": [
    "### Numpy"
   ]
  },
  {
   "cell_type": "code",
   "execution_count": 24,
   "metadata": {
    "id": "fYqlH1NSU-Sy"
   },
   "outputs": [
    {
     "name": "stdout",
     "output_type": "stream",
     "text": [
      "<type 'numpy.ndarray'>\n",
      "[6725 9365 8030 8750]\n",
      "6725\n"
     ]
    }
   ],
   "source": [
    "import numpy as np\n",
    "\n",
    "income = np.array([6725, 9365, 8030, 8750])\n",
    "print(type(income))\n",
    "print(income) \n",
    "print(income[0])"
   ]
  },
  {
   "cell_type": "markdown",
   "metadata": {
    "id": "1Pe8AxTYVQuD"
   },
   "source": [
    "Creating a new array from income array"
   ]
  },
  {
   "cell_type": "code",
   "execution_count": 25,
   "metadata": {
    "id": "AQR7w-UhVHtT"
   },
   "outputs": [
    {
     "name": "stdout",
     "output_type": "stream",
     "text": [
      "[4371.25 6087.25 5219.5  5687.5 ]\n"
     ]
    }
   ],
   "source": [
    "expenses=income*0.65\n",
    "print(expenses)"
   ]
  },
  {
   "cell_type": "code",
   "execution_count": 26,
   "metadata": {
    "id": "DMYaRKSeVNpd"
   },
   "outputs": [
    {
     "name": "stdout",
     "output_type": "stream",
     "text": [
      "[2353.75 3277.75 2810.5  3062.5 ]\n"
     ]
    }
   ],
   "source": [
    "savings=income-expenses\n",
    "print(savings)"
   ]
  },
  {
   "cell_type": "markdown",
   "metadata": {
    "id": "pGDvVjvCVukQ"
   },
   "source": [
    "#### Array VS list"
   ]
  },
  {
   "cell_type": "code",
   "execution_count": 27,
   "metadata": {
    "id": "AJ8g0-NAVWJS"
   },
   "outputs": [],
   "source": [
    "income_list=[6725, 9365, 8030, 8750]\n",
    "income_array = np.array(income_list)"
   ]
  },
  {
   "cell_type": "code",
   "execution_count": 28,
   "metadata": {
    "id": "QAMx-1XwVk-9"
   },
   "outputs": [
    {
     "name": "stdout",
     "output_type": "stream",
     "text": [
      "[6725, 9365, 8030, 8750, 6725, 9365, 8030, 8750]\n",
      "[13450 18730 16060 17500]\n"
     ]
    }
   ],
   "source": [
    "print(income_list*2)\n",
    "print(income_array*2)"
   ]
  },
  {
   "cell_type": "markdown",
   "metadata": {
    "id": "sbr-qoiTV2Te"
   },
   "source": [
    "### Pandas"
   ]
  },
  {
   "cell_type": "code",
   "execution_count": 29,
   "metadata": {
    "id": "z4wdoMNSVoNi"
   },
   "outputs": [],
   "source": [
    "import pandas as pd"
   ]
  },
  {
   "cell_type": "code",
   "execution_count": 58,
   "metadata": {
    "id": "jnwqfIDsWAmI"
   },
   "outputs": [],
   "source": [
    "# from google.colab import drive\n",
    "# drive.mount('/content/drive')"
   ]
  },
  {
   "cell_type": "code",
   "execution_count": 43,
   "metadata": {
    "id": "GC7JxfQAd4eu"
   },
   "outputs": [
    {
     "name": "stdout",
     "output_type": "stream",
     "text": [
      "       Cust_num  age            job   marital  education default  balance  \\\n",
      "0             1   58     management   married   tertiary      no     2143   \n",
      "1             2   44     technician    single  secondary      no       29   \n",
      "2             3   33   entrepreneur   married  secondary      no        2   \n",
      "3             4   47    blue-collar   married    unknown      no     1506   \n",
      "4             5   33        unknown    single    unknown      no        1   \n",
      "5             6   35     management   married   tertiary      no      231   \n",
      "6             7   28     management    single   tertiary      no      447   \n",
      "7             8   42   entrepreneur  divorced   tertiary     yes        2   \n",
      "8             9   58        retired   married    primary      no      121   \n",
      "9            10   43     technician    single  secondary      no      593   \n",
      "10           11   41         admin.  divorced  secondary      no      270   \n",
      "11           12   29         admin.    single  secondary      no      390   \n",
      "12           13   53     technician   married  secondary      no        6   \n",
      "13           14   58     technician   married    unknown      no       71   \n",
      "14           15   57       services   married  secondary      no      162   \n",
      "15           16   51        retired   married    primary      no      229   \n",
      "16           17   45         admin.    single    unknown      no       13   \n",
      "17           18   57    blue-collar   married    primary      no       52   \n",
      "18           19   60        retired   married    primary      no       60   \n",
      "19           20   33       services   married  secondary      no        0   \n",
      "20           21   28    blue-collar   married  secondary      no      723   \n",
      "21           22   56     management   married   tertiary      no      779   \n",
      "22           23   32    blue-collar    single    primary      no       23   \n",
      "23           24   25       services   married  secondary      no       50   \n",
      "24           25   40        retired   married    primary      no        0   \n",
      "25           26   44         admin.   married  secondary      no     -372   \n",
      "26           27   39     management    single   tertiary      no      255   \n",
      "27           28   52   entrepreneur   married  secondary      no      113   \n",
      "28           29   46     management    single  secondary      no     -246   \n",
      "29           30   36     technician    single  secondary      no      265   \n",
      "...         ...  ...            ...       ...        ...     ...      ...   \n",
      "45181     45182   46    blue-collar   married  secondary      no     6879   \n",
      "45182     45183   34     technician   married  secondary      no      133   \n",
      "45183     45184   70        retired   married    primary      no      324   \n",
      "45184     45185   63        retired   married  secondary      no     1495   \n",
      "45185     45186   60       services   married   tertiary      no     4256   \n",
      "45186     45187   59        unknown   married    unknown      no     1500   \n",
      "45187     45188   32       services    single  secondary      no     1168   \n",
      "45188     45189   29     management    single  secondary      no      703   \n",
      "45189     45190   25       services    single  secondary      no      199   \n",
      "45190     45191   32    blue-collar   married  secondary      no      136   \n",
      "45191     45192   75        retired  divorced   tertiary      no     3810   \n",
      "45192     45193   29     management    single   tertiary      no      765   \n",
      "45193     45194   28  self-employed    single   tertiary      no      159   \n",
      "45194     45195   59     management   married   tertiary      no      138   \n",
      "45195     45196   68        retired   married  secondary      no     1146   \n",
      "45196     45197   25        student    single  secondary      no      358   \n",
      "45197     45198   36     management    single  secondary      no     1511   \n",
      "45198     45199   37     management   married   tertiary      no     1428   \n",
      "45199     45200   34    blue-collar    single  secondary      no     1475   \n",
      "45200     45201   38     technician   married  secondary      no      557   \n",
      "45201     45202   53     management   married   tertiary      no      583   \n",
      "45202     45203   34         admin.    single  secondary      no      557   \n",
      "45203     45204   23        student    single   tertiary      no      113   \n",
      "45204     45205   73        retired   married  secondary      no     2850   \n",
      "45205     45206   25     technician    single  secondary      no      505   \n",
      "45206     45207   51     technician   married   tertiary      no      825   \n",
      "45207     45208   71        retired  divorced    primary      no     1729   \n",
      "45208     45209   72        retired   married  secondary      no     5715   \n",
      "45209     45210   57    blue-collar   married  secondary      no      668   \n",
      "45210     45211   37   entrepreneur   married  secondary      no     2971   \n",
      "\n",
      "      housing loan    contact  day month  duration  campaign  pdays  previous  \\\n",
      "0         yes   no    unknown    5   may       261         1     -1         0   \n",
      "1         yes   no    unknown    5   may       151         1     -1         0   \n",
      "2         yes  yes    unknown    5   may        76         1     -1         0   \n",
      "3         yes   no    unknown    5   may        92         1     -1         0   \n",
      "4          no   no    unknown    5   may       198         1     -1         0   \n",
      "5         yes   no    unknown    5   may       139         1     -1         0   \n",
      "6         yes  yes    unknown    5   may       217         1     -1         0   \n",
      "7         yes   no    unknown    5   may       380         1     -1         0   \n",
      "8         yes   no    unknown    5   may        50         1     -1         0   \n",
      "9         yes   no    unknown    5   may        55         1     -1         0   \n",
      "10        yes   no    unknown    5   may       222         1     -1         0   \n",
      "11        yes   no    unknown    5   may       137         1     -1         0   \n",
      "12        yes   no    unknown    5   may       517         1     -1         0   \n",
      "13        yes   no    unknown    5   may        71         1     -1         0   \n",
      "14        yes   no    unknown    5   may       174         1     -1         0   \n",
      "15        yes   no    unknown    5   may       353         1     -1         0   \n",
      "16        yes   no    unknown    5   may        98         1     -1         0   \n",
      "17        yes   no    unknown    5   may        38         1     -1         0   \n",
      "18        yes   no    unknown    5   may       219         1     -1         0   \n",
      "19        yes   no    unknown    5   may        54         1     -1         0   \n",
      "20        yes  yes    unknown    5   may       262         1     -1         0   \n",
      "21        yes   no    unknown    5   may       164         1     -1         0   \n",
      "22        yes  yes    unknown    5   may       160         1     -1         0   \n",
      "23        yes   no    unknown    5   may       342         1     -1         0   \n",
      "24        yes  yes    unknown    5   may       181         1     -1         0   \n",
      "25        yes   no    unknown    5   may       172         1     -1         0   \n",
      "26        yes   no    unknown    5   may       296         1     -1         0   \n",
      "27        yes  yes    unknown    5   may       127         1     -1         0   \n",
      "28        yes   no    unknown    5   may       255         2     -1         0   \n",
      "29        yes  yes    unknown    5   may       348         1     -1         0   \n",
      "...       ...  ...        ...  ...   ...       ...       ...    ...       ...   \n",
      "45181      no   no   cellular   15   nov        74         2    118         3   \n",
      "45182      no   no   cellular   15   nov       401         2    187         5   \n",
      "45183      no   no   cellular   15   nov        78         1     96         7   \n",
      "45184      no   no   cellular   16   nov       138         1     22         5   \n",
      "45185     yes   no   cellular   16   nov       200         1     92         4   \n",
      "45186      no   no   cellular   16   nov       280         1    104         2   \n",
      "45187     yes   no   cellular   16   nov       411         1     -1         0   \n",
      "45188     yes   no   cellular   16   nov       236         1    550         2   \n",
      "45189      no   no   cellular   16   nov       173         1     92         5   \n",
      "45190      no   no   cellular   16   nov       206         1    188         3   \n",
      "45191     yes   no   cellular   16   nov       262         1    183         1   \n",
      "45192      no   no   cellular   16   nov       238         1     -1         0   \n",
      "45193      no   no   cellular   16   nov       449         2     33         4   \n",
      "45194     yes  yes   cellular   16   nov       162         2    187         5   \n",
      "45195      no   no   cellular   16   nov       212         1    187         6   \n",
      "45196      no   no   cellular   16   nov       330         1     -1         0   \n",
      "45197     yes   no   cellular   16   nov       270         1     -1         0   \n",
      "45198      no   no   cellular   16   nov       333         2     -1         0   \n",
      "45199     yes   no   cellular   16   nov      1166         3    530        12   \n",
      "45200     yes   no   cellular   16   nov      1556         4     -1         0   \n",
      "45201      no   no   cellular   17   nov       226         1    184         4   \n",
      "45202      no   no   cellular   17   nov       224         1     -1         0   \n",
      "45203      no   no   cellular   17   nov       266         1     -1         0   \n",
      "45204      no   no   cellular   17   nov       300         1     40         8   \n",
      "45205      no  yes   cellular   17   nov       386         2     -1         0   \n",
      "45206      no   no   cellular   17   nov       977         3     -1         0   \n",
      "45207      no   no   cellular   17   nov       456         2     -1         0   \n",
      "45208      no   no   cellular   17   nov      1127         5    184         3   \n",
      "45209      no   no  telephone   17   nov       508         4     -1         0   \n",
      "45210      no   no   cellular   17   nov       361         2    188        11   \n",
      "\n",
      "      poutcome    y  \n",
      "0      unknown   no  \n",
      "1      unknown   no  \n",
      "2      unknown   no  \n",
      "3      unknown   no  \n",
      "4      unknown   no  \n",
      "5      unknown   no  \n",
      "6      unknown   no  \n",
      "7      unknown   no  \n",
      "8      unknown   no  \n",
      "9      unknown   no  \n",
      "10     unknown   no  \n",
      "11     unknown   no  \n",
      "12     unknown   no  \n",
      "13     unknown   no  \n",
      "14     unknown   no  \n",
      "15     unknown   no  \n",
      "16     unknown   no  \n",
      "17     unknown   no  \n",
      "18     unknown   no  \n",
      "19     unknown   no  \n",
      "20     unknown   no  \n",
      "21     unknown   no  \n",
      "22     unknown   no  \n",
      "23     unknown   no  \n",
      "24     unknown   no  \n",
      "25     unknown   no  \n",
      "26     unknown   no  \n",
      "27     unknown   no  \n",
      "28     unknown   no  \n",
      "29     unknown   no  \n",
      "...        ...  ...  \n",
      "45181  failure   no  \n",
      "45182  success  yes  \n",
      "45183  success   no  \n",
      "45184  success   no  \n",
      "45185  success  yes  \n",
      "45186  failure   no  \n",
      "45187  unknown  yes  \n",
      "45188  success  yes  \n",
      "45189  failure   no  \n",
      "45190  success  yes  \n",
      "45191  failure  yes  \n",
      "45192  unknown  yes  \n",
      "45193  success  yes  \n",
      "45194  failure   no  \n",
      "45195  success  yes  \n",
      "45196  unknown  yes  \n",
      "45197  unknown  yes  \n",
      "45198  unknown   no  \n",
      "45199    other   no  \n",
      "45200  unknown  yes  \n",
      "45201  success  yes  \n",
      "45202  unknown  yes  \n",
      "45203  unknown  yes  \n",
      "45204  failure  yes  \n",
      "45205  unknown  yes  \n",
      "45206  unknown  yes  \n",
      "45207  unknown  yes  \n",
      "45208  success  yes  \n",
      "45209  unknown   no  \n",
      "45210    other   no  \n",
      "\n",
      "[45211 rows x 18 columns]\n"
     ]
    }
   ],
   "source": [
    "bank= pd.read_csv('Datasets/Bank Tele Marketing/bank_market.csv')\n",
    "print(bank)"
   ]
  },
  {
   "cell_type": "markdown",
   "metadata": {
    "id": "wKqqzQLlg8ye"
   },
   "source": [
    "### Matplotlib"
   ]
  },
  {
   "cell_type": "code",
   "execution_count": 44,
   "metadata": {
    "id": "4ICwLymlfDsZ"
   },
   "outputs": [
    {
     "name": "stdout",
     "output_type": "stream",
     "text": [
      "Index([u'Cust_num', u'age', u'job', u'marital', u'education', u'default',\n",
      "       u'balance', u'housing', u'loan', u'contact', u'day', u'month',\n",
      "       u'duration', u'campaign', u'pdays', u'previous', u'poutcome', u'y'],\n",
      "      dtype='object')\n"
     ]
    }
   ],
   "source": [
    "bank= pd.read_csv('Datasets/Bank Tele Marketing/bank_market.csv')\n",
    "print(bank.columns)"
   ]
  },
  {
   "cell_type": "code",
   "execution_count": 45,
   "metadata": {
    "id": "FXLlGYYYhmEd"
   },
   "outputs": [
    {
     "data": {
      "image/png": "[encoded data removed]",
      "text/plain": [
       "<Figure size 432x288 with 1 Axes>"
      ]
     },
     "metadata": {
      "needs_background": "light"
     },
     "output_type": "display_data"
    }
   ],
   "source": [
    "import matplotlib.pyplot as plt\n",
    "plt.scatter(bank.age,bank.balance)\n",
    "plt.show()"
   ]
  },
  {
   "cell_type": "markdown",
   "metadata": {
    "id": "lCIGOJDNh4Vv"
   },
   "source": [
    "## Conditions and Loops in python"
   ]
  },
  {
   "cell_type": "markdown",
   "metadata": {
    "id": "26BrRyFliJmf"
   },
   "source": [
    "### If condition\n"
   ]
  },
  {
   "cell_type": "markdown",
   "metadata": {
    "id": "MSHSMJGPiQVw"
   },
   "source": [
    "Example 1"
   ]
  },
  {
   "cell_type": "code",
   "execution_count": 35,
   "metadata": {
    "id": "8F6bFWo8hqSt"
   },
   "outputs": [
    {
     "name": "stdout",
     "output_type": "stream",
     "text": [
      "Done with If\n"
     ]
    }
   ],
   "source": [
    "level=60\n",
    "if level<50:\n",
    "    print(\"Stage1\")\n",
    "print(\"Done with If\")"
   ]
  },
  {
   "cell_type": "markdown",
   "metadata": {
    "id": "CLsRigoFiX0H"
   },
   "source": [
    "Example 2"
   ]
  },
  {
   "cell_type": "code",
   "execution_count": 36,
   "metadata": {
    "id": "x4Dh_S7yiWGm"
   },
   "outputs": [],
   "source": [
    "level=60\n",
    "if level<50:\n",
    "    print(\"Stage1\")\n",
    "    print(\"Done with If\")"
   ]
  },
  {
   "cell_type": "markdown",
   "metadata": {
    "id": "6CqAMIAUkL5A"
   },
   "source": [
    "Example 3"
   ]
  },
  {
   "cell_type": "code",
   "execution_count": 37,
   "metadata": {
    "id": "s-yP2qNNkCKX"
   },
   "outputs": [
    {
     "name": "stdout",
     "output_type": "stream",
     "text": [
      "Stage1\n",
      "Done with If\n"
     ]
    }
   ],
   "source": [
    "level=40\n",
    "if level<50:\n",
    "    print(\"Stage1\")\n",
    "print(\"Done with If\")"
   ]
  },
  {
   "cell_type": "markdown",
   "metadata": {
    "id": "FbIiSdsclfmM"
   },
   "source": [
    "Example 4"
   ]
  },
  {
   "cell_type": "code",
   "execution_count": 38,
   "metadata": {
    "id": "eboHcf3xld-X"
   },
   "outputs": [
    {
     "name": "stdout",
     "output_type": "stream",
     "text": [
      "Stage2\n",
      "Done with If\n"
     ]
    }
   ],
   "source": [
    "level=60\n",
    "if level<50:\n",
    "    print(\"Stage1\")\n",
    "else:\n",
    "    print(\"Stage2\")\n",
    "print(\"Done with If\")"
   ]
  },
  {
   "cell_type": "markdown",
   "metadata": {
    "id": "JrGUePETloFi"
   },
   "source": [
    "### For loop"
   ]
  },
  {
   "cell_type": "markdown",
   "metadata": {
    "id": "XqhjKv3emLre"
   },
   "source": [
    "Example 1"
   ]
  },
  {
   "cell_type": "code",
   "execution_count": 39,
   "metadata": {
    "id": "gEEyHO8vlkHi"
   },
   "outputs": [
    {
     "name": "stdout",
     "output_type": "stream",
     "text": [
      "('The name is', 'Tommy')\n",
      "('The name is', 'Benny')\n",
      "('The name is', 'Ken')\n"
     ]
    }
   ],
   "source": [
    "names=[\"Tommy\", \"Benny\", \"Ken\"]\n",
    "for i in names:\n",
    "    print(\"The name is\", i)"
   ]
  },
  {
   "cell_type": "markdown",
   "metadata": {
    "id": "Qe-MywofmhF-"
   },
   "source": [
    "Example 2"
   ]
  },
  {
   "cell_type": "code",
   "execution_count": 40,
   "metadata": {
    "id": "gqNvW-DJmfMB"
   },
   "outputs": [
    {
     "name": "stdout",
     "output_type": "stream",
     "text": [
      "('Cumulative sum till', 1, 'is', 1)\n",
      "('Cumulative sum till', 2, 'is', 3)\n",
      "('Cumulative sum till', 3, 'is', 6)\n",
      "('Cumulative sum till', 4, 'is', 10)\n",
      "('Cumulative sum till', 5, 'is', 15)\n",
      "('Cumulative sum till', 6, 'is', 21)\n",
      "('Cumulative sum till', 7, 'is', 28)\n",
      "('Cumulative sum till', 8, 'is', 36)\n",
      "('Cumulative sum till', 9, 'is', 45)\n"
     ]
    }
   ],
   "source": [
    "nums=range(1,10)\n",
    "cumsum=0\n",
    "for i in nums:\n",
    "    cumsum=cumsum+i\n",
    "    print(\"Cumulative sum till\", i ,\"is\", cumsum)"
   ]
  },
  {
   "cell_type": "markdown",
   "metadata": {
    "id": "-1Q_BbeomnnP"
   },
   "source": [
    "## Data Importing and basic details "
   ]
  },
  {
   "cell_type": "code",
   "execution_count": 46,
   "metadata": {
    "id": "wSD0QnhHmmD6"
   },
   "outputs": [],
   "source": [
    "import pandas as pd"
   ]
  },
  {
   "cell_type": "markdown",
   "metadata": {
    "id": "wSqDzU11oZiY"
   },
   "source": [
    "#### Importing data from csv files "
   ]
  },
  {
   "cell_type": "code",
   "execution_count": 47,
   "metadata": {
    "id": "yyiNgWWdnK51"
   },
   "outputs": [
    {
     "name": "stdout",
     "output_type": "stream",
     "text": [
      "      Cust_id             CustName Product_code Country_code Sales_Type  \\\n",
      "0    SIE39906        Garrett Bauer          HA1          SIE     Direct   \n",
      "1    EST39196          Rama Norris          GI2          EST    Website   \n",
      "2    AFG39258          Serena Carr          ER3          AFG    Website   \n",
      "3    CAN39302       Brendan Daniel          BR1          CAN    Website   \n",
      "4    POR39323       Judith Beasley          LU4          POR    Website   \n",
      "5    NOR39103       Olympia Hewitt          DA1          NOR      Other   \n",
      "6    ITA39581          Fallon Soto          DI3          ITA    Website   \n",
      "7    TUR39194       Aquila Russell          DE1          TUR    Website   \n",
      "8    GRE39678        Teagan Hebert          SO2          GRE    Website   \n",
      "9    MIC39753         Emily Brooks          AN3          MIC     Direct   \n",
      "10   PAL39849        Linda Oconnor          JE3          PAL      Other   \n",
      "11   FIN39735         Susan Mathis          MA1          FIN    Website   \n",
      "12   NEW39723        Shad Saunders          KA2          NEW      Other   \n",
      "13   PAL39867           Sandra May          DA3          PAL    Website   \n",
      "14   AND39574        Britanni Hill          LY2          AND     Direct   \n",
      "15   RWA39900       Ifeoma Mcguire          SL1          RWA     Direct   \n",
      "16   CHA39209       Paloma Sweeney          DA4          CHA    Website   \n",
      "17   SWA39356        Yetta Stanley          GE5          SWA    Website   \n",
      "18   FIN39270       Ainsley Durham          ZA5          FIN    Website   \n",
      "19   GIB38997        Kevin Mcclain          SY3          GIB     Direct   \n",
      "20   KOR39147      Haviva Roberson          MI2          KOR     Direct   \n",
      "21   SAM39764          Ralph Black          GA3          SAM    Website   \n",
      "22   DJI39145          Maia Durham          AL4          DJI      Other   \n",
      "23   AFG39791       Brielle Conrad          OC1          AFG     Direct   \n",
      "24   SWI39817       Lester Carroll          CO2          SWI    Website   \n",
      "25   ANT39170          Ifeoma Wise          AL3          ANT    Website   \n",
      "26   VIR38976         Sybil Obrien          RY4          VIR     Direct   \n",
      "27   SWE39226      Abigail Collins          BR2          SWE     Direct   \n",
      "28   URU39591      Erica Hernandez          EV3          URU     Direct   \n",
      "29   IRA39216        Daphne Dawson          HA5          IRA    Website   \n",
      "..        ...                  ...          ...          ...        ...   \n",
      "947  HAI39614           Ori Hunter          FE2          HAI     Direct   \n",
      "948  IRA39914      Kylynn Reynolds          RA4          IRA     Direct   \n",
      "949  MAL38995        Brielle Crane          KA5          MAL     Direct   \n",
      "950  CAM39598      Thaddeus Cortez          ER1          CAM    Website   \n",
      "951  AME39240           Robert Lee          HO5          AME     Direct   \n",
      "952  SEY39754        Mannix Mooney          CA1          SEY    Website   \n",
      "953  SIE38987        Erich Shelton          BU3          SIE    Website   \n",
      "954  UNI39241    Sylvester Higgins          MO3          UNI    Website   \n",
      "955  MAL39010      Thaddeus Hunter          YA4          MAL     Direct   \n",
      "956  PUE39112  Macaulay Strickland          RY1          PUE    Website   \n",
      "957  SAI39179           Graham Orr          LO3          SAI    Website   \n",
      "958  SWI39079         Zeus Daniels          MA2          SWI     Direct   \n",
      "959  SUD39381         Keegan Johns          MA2          SUD    Website   \n",
      "960  MAC39431           Cara Cantu          DR3          MAC     Direct   \n",
      "961  AZE39810      Jeremy Mcdonald          LU4          AZE     Direct   \n",
      "962  MON39702      Thomas Humphrey          OL4          MON     Direct   \n",
      "963  SOM39481       Demetrius Kidd          MA1          SOM     Direct   \n",
      "964  CHA39854        Fuller Benton          WI2          CHA     Direct   \n",
      "965  COM39149      Sydney Odonnell          YE2          COM    Website   \n",
      "966  VIR39548         Herrod Rojas          FO2          VIR     Direct   \n",
      "967  PHI39885      Cedric Ferguson          OL1          PHI     Direct   \n",
      "968  SAM39126        Kitra Hendrix          GA3          SAM     Direct   \n",
      "969  UKR39521          Hu Jacobson          BU1          UKR     Direct   \n",
      "970  SOM39594       Autumn Mcbride          HO3          SOM    Website   \n",
      "971  NET39890        Ruth Fletcher          KA3          NET     Direct   \n",
      "972  GUA39889      Hermione Grimes          EA1          GUA      Other   \n",
      "973  TRI39891        Daryl Gilbert          LA1          TRI      Other   \n",
      "974  SOU39893        Upton Lambert          DE1          SOU      Other   \n",
      "975  GEO39888       Jaime Alvarado          AU5          GEO      Other   \n",
      "976  ICE39892          Bert Fowler          LE2          ICE     Direct   \n",
      "\n",
      "     Net_sales  Invoice_Amount  \n",
      "0            1             400  \n",
      "1            2             400  \n",
      "2            2             400  \n",
      "3            2             400  \n",
      "4            2             400  \n",
      "5            3             600  \n",
      "6            2             800  \n",
      "7            4             800  \n",
      "8            4             800  \n",
      "9            4             800  \n",
      "10           4             800  \n",
      "11           5            1000  \n",
      "12           3            1200  \n",
      "13           3            1200  \n",
      "14           6            1200  \n",
      "15           6            1200  \n",
      "16           7            1400  \n",
      "17           7            1400  \n",
      "18           4            1600  \n",
      "19           8            1600  \n",
      "20           5            2000  \n",
      "21           5            2000  \n",
      "22          10            2000  \n",
      "23          10            2000  \n",
      "24          10            2000  \n",
      "25           6            2400  \n",
      "26          12            2400  \n",
      "27          12            2400  \n",
      "28         200            2400  \n",
      "29          13            2600  \n",
      "..         ...             ...  \n",
      "947        390          156000  \n",
      "948        390          156000  \n",
      "949        392          156800  \n",
      "950        392          156800  \n",
      "951        396          158400  \n",
      "952        400          160000  \n",
      "953        402          160800  \n",
      "954        404          161600  \n",
      "955        406          162400  \n",
      "956        406          162400  \n",
      "957        408          163200  \n",
      "958        410          164000  \n",
      "959        410          164000  \n",
      "960        412          164800  \n",
      "961        412          164800  \n",
      "962        416          166400  \n",
      "963        418          167200  \n",
      "964        418          167200  \n",
      "965        420          168000  \n",
      "966        420          168000  \n",
      "967        420          168000  \n",
      "968        422          168800  \n",
      "969        422          168800  \n",
      "970        424          169600  \n",
      "971         15             450  \n",
      "972        129            3870  \n",
      "973        155            4650  \n",
      "974        171            5130  \n",
      "975        188            5640  \n",
      "976        240            7200  \n",
      "\n",
      "[977 rows x 7 columns]\n"
     ]
    }
   ],
   "source": [
    "sales= pd.read_csv('Datasets/Sales/Sales.csv')\n",
    "print(sales)"
   ]
  },
  {
   "cell_type": "markdown",
   "metadata": {
    "id": "4cYPQhGwoof2"
   },
   "source": [
    "#### Importing data from Microsoft Excel files "
   ]
  },
  {
   "cell_type": "markdown",
   "metadata": {
    "id": "kWt_eSTmp35k"
   },
   "source": [
    "### Basic Details of dataset. "
   ]
  },
  {
   "cell_type": "code",
   "execution_count": 48,
   "metadata": {
    "id": "6rGdLXxmo171"
   },
   "outputs": [
    {
     "name": "stdout",
     "output_type": "stream",
     "text": [
      "(977, 7)\n",
      "Index([u'Cust_id', u'CustName', u'Product_code', u'Country_code',\n",
      "       u'Sales_Type', u'Net_sales', u'Invoice_Amount'],\n",
      "      dtype='object')\n",
      "    Cust_id        CustName Product_code Country_code Sales_Type  Net_sales  \\\n",
      "0  SIE39906   Garrett Bauer          HA1          SIE     Direct          1   \n",
      "1  EST39196     Rama Norris          GI2          EST    Website          2   \n",
      "2  AFG39258     Serena Carr          ER3          AFG    Website          2   \n",
      "3  CAN39302  Brendan Daniel          BR1          CAN    Website          2   \n",
      "4  POR39323  Judith Beasley          LU4          POR    Website          2   \n",
      "5  NOR39103  Olympia Hewitt          DA1          NOR      Other          3   \n",
      "6  ITA39581     Fallon Soto          DI3          ITA    Website          2   \n",
      "7  TUR39194  Aquila Russell          DE1          TUR    Website          4   \n",
      "8  GRE39678   Teagan Hebert          SO2          GRE    Website          4   \n",
      "9  MIC39753    Emily Brooks          AN3          MIC     Direct          4   \n",
      "\n",
      "   Invoice_Amount  \n",
      "0             400  \n",
      "1             400  \n",
      "2             400  \n",
      "3             400  \n",
      "4             400  \n",
      "5             600  \n",
      "6             800  \n",
      "7             800  \n",
      "8             800  \n",
      "9             800  \n",
      "      Cust_id         CustName Product_code Country_code Sales_Type  \\\n",
      "967  PHI39885  Cedric Ferguson          OL1          PHI     Direct   \n",
      "968  SAM39126    Kitra Hendrix          GA3          SAM     Direct   \n",
      "969  UKR39521      Hu Jacobson          BU1          UKR     Direct   \n",
      "970  SOM39594   Autumn Mcbride          HO3          SOM    Website   \n",
      "971  NET39890    Ruth Fletcher          KA3          NET     Direct   \n",
      "972  GUA39889  Hermione Grimes          EA1          GUA      Other   \n",
      "973  TRI39891    Daryl Gilbert          LA1          TRI      Other   \n",
      "974  SOU39893    Upton Lambert          DE1          SOU      Other   \n",
      "975  GEO39888   Jaime Alvarado          AU5          GEO      Other   \n",
      "976  ICE39892      Bert Fowler          LE2          ICE     Direct   \n",
      "\n",
      "     Net_sales  Invoice_Amount  \n",
      "967        420          168000  \n",
      "968        422          168800  \n",
      "969        422          168800  \n",
      "970        424          169600  \n",
      "971         15             450  \n",
      "972        129            3870  \n",
      "973        155            4650  \n",
      "974        171            5130  \n",
      "975        188            5640  \n",
      "976        240            7200  \n"
     ]
    }
   ],
   "source": [
    "print(sales.shape)\n",
    "print(sales.columns)\n",
    "print(sales.head(10))\n",
    "print(sales.tail(10)) "
   ]
  },
  {
   "cell_type": "code",
   "execution_count": 49,
   "metadata": {
    "id": "RPsjK21hqAtw"
   },
   "outputs": [
    {
     "name": "stdout",
     "output_type": "stream",
     "text": [
      "      Cust_id           CustName Product_code Country_code Sales_Type  \\\n",
      "426  NEW39375      Dakota Fisher          JO1          NEW    Website   \n",
      "35   ARG39109      Jordan Sawyer          CY2          ARG     Direct   \n",
      "862  PAR39256  Kimberley Daniels          SI5          PAR     Direct   \n",
      "697  TUR39123         Lani Poole          MA2          TUR     Direct   \n",
      "959  SUD39381       Keegan Johns          MA2          SUD    Website   \n",
      "442  PER39814     Elliott Clarke          SA5          PER     Direct   \n",
      "698  ANG39657       Jesse Finley          CR1          ANG    Website   \n",
      "366  SAI39543     Cynthia Coffey          AN2          SAI    Website   \n",
      "602  KAZ39022       Maisie Terry          WI5          KAZ    Website   \n",
      "291  ARG39620    Elizabeth Moody          FI1          ARG     Direct   \n",
      "\n",
      "     Net_sales  Invoice_Amount  \n",
      "426         84           33600  \n",
      "35         311            2800  \n",
      "862        238           95200  \n",
      "697        163           65200  \n",
      "959        410          164000  \n",
      "442        174           34800  \n",
      "698        163           65200  \n",
      "366         74           29600  \n",
      "602        128           51200  \n",
      "291        117           23400  \n",
      "Cust_id           object\n",
      "CustName          object\n",
      "Product_code      object\n",
      "Country_code      object\n",
      "Sales_Type        object\n",
      "Net_sales          int64\n",
      "Invoice_Amount     int64\n",
      "dtype: object\n"
     ]
    }
   ],
   "source": [
    "print(sales.sample(n=10))\n",
    "print(sales.dtypes) "
   ]
  },
  {
   "cell_type": "code",
   "execution_count": 50,
   "metadata": {
    "id": "rWM0HZWEqMwN"
   },
   "outputs": [
    {
     "name": "stdout",
     "output_type": "stream",
     "text": [
      "          Net_sales  Invoice_Amount\n",
      "count    977.000000      977.000000\n",
      "mean     219.760491    47906.591607\n",
      "std      750.624569    38362.358333\n",
      "min        1.000000      400.000000\n",
      "25%       75.000000    20000.000000\n",
      "50%      151.000000    37600.000000\n",
      "75%      224.000000    68000.000000\n",
      "max    15300.000000   169600.000000\n",
      "count       977.000000\n",
      "mean      47906.591607\n",
      "std       38362.358333\n",
      "min         400.000000\n",
      "25%       20000.000000\n",
      "50%       37600.000000\n",
      "75%       68000.000000\n",
      "max      169600.000000\n",
      "Name: Invoice_Amount, dtype: float64\n"
     ]
    }
   ],
   "source": [
    "print(sales.describe())\n",
    "print(sales[\"Invoice_Amount\"].describe())"
   ]
  },
  {
   "cell_type": "code",
   "execution_count": 51,
   "metadata": {
    "id": "dbRtGVvrqQw7"
   },
   "outputs": [
    {
     "name": "stdout",
     "output_type": "stream",
     "text": [
      "Website    494\n",
      "Direct     402\n",
      "Other       81\n",
      "Name: Sales_Type, dtype: int64\n"
     ]
    }
   ],
   "source": [
    "print(sales[\"Sales_Type\"].value_counts())"
   ]
  },
  {
   "cell_type": "code",
   "execution_count": 52,
   "metadata": {
    "id": "TwI9cxSUqTbq"
   },
   "outputs": [
    {
     "name": "stdout",
     "output_type": "stream",
     "text": [
      "21\n",
      "0\n",
      "0\n"
     ]
    }
   ],
   "source": [
    "print(sum(sales[\"Country_code\"].isnull()))\n",
    "print(sum(sales[\"CustName\"].isnull()))\n",
    "print(sum(sales[\"Invoice_Amount\"].isnull()))"
   ]
  },
  {
   "cell_type": "markdown",
   "metadata": {
    "id": "NCRDBNbXg4ja"
   },
   "source": [
    "## Basic statistics and Data exploration"
   ]
  },
  {
   "cell_type": "markdown",
   "metadata": {
    "id": "JNwOtinEhJpX"
   },
   "source": [
    "### Basic descriptive statitics"
   ]
  },
  {
   "cell_type": "code",
   "execution_count": 53,
   "metadata": {
    "id": "9_73Jbfufaal"
   },
   "outputs": [
    {
     "name": "stdout",
     "output_type": "stream",
     "text": [
      "(32561, 15)\n",
      "Index([u'age', u'workclass', u'fnlwgt', u'education', u'education-num',\n",
      "       u'marital-status', u'occupation', u'relationship', u'race', u'sex',\n",
      "       u'capital-gain', u'capital-loss', u'hours-per-week', u'native-country',\n",
      "       u'Income_band'],\n",
      "      dtype='object')\n"
     ]
    }
   ],
   "source": [
    "import pandas as pd\n",
    "income_data= pd.read_csv(r\"Datasets/Census Income Data/Income_data.csv\")\n",
    "print(income_data.shape)\n",
    "print(income_data.columns)"
   ]
  },
  {
   "cell_type": "markdown",
   "metadata": {
    "id": "NbxgV9YZhN8V"
   },
   "source": [
    "#### Mean"
   ]
  },
  {
   "cell_type": "code",
   "execution_count": 54,
   "metadata": {
    "id": "kvMIDrvJh-6r"
   },
   "outputs": [
    {
     "name": "stdout",
     "output_type": "stream",
     "text": [
      "1077.64884371\n"
     ]
    }
   ],
   "source": [
    "print(income_data[\"capital-gain\"].mean())"
   ]
  },
  {
   "cell_type": "markdown",
   "metadata": {
    "id": "KWttTcq2im4f"
   },
   "source": [
    "#### Median"
   ]
  },
  {
   "cell_type": "code",
   "execution_count": 55,
   "metadata": {
    "id": "luazOuVKikDx"
   },
   "outputs": [
    {
     "name": "stdout",
     "output_type": "stream",
     "text": [
      "0.0\n"
     ]
    }
   ],
   "source": [
    "print(income_data[\"capital-gain\"].median())"
   ]
  },
  {
   "cell_type": "markdown",
   "metadata": {
    "id": "ShaEzfVXjA-Q"
   },
   "source": [
    "### Data exploration"
   ]
  },
  {
   "cell_type": "markdown",
   "metadata": {
    "id": "G_F_pXa2jYC-"
   },
   "source": [
    "#### Exploring numeric continuous variables\n",
    "\n",
    "To explore continuous variables, we use percentiles and percentile distributions. First, let’s try to explore what percentiles are. "
   ]
  },
  {
   "cell_type": "markdown",
   "metadata": {
    "id": "_pEcZ52ojoFK"
   },
   "source": [
    "##### Percentiles"
   ]
  },
  {
   "cell_type": "markdown",
   "metadata": {
    "id": "pDgoGUvHso41"
   },
   "source": [
    "The variable we are going to use here is capital-gain from income data. In previous discussions, we had already identified something fishy about this variable. Mean is 1,077.6 and median is 0. Let’s now try to calculate it’s percentile values. "
   ]
  },
  {
   "cell_type": "code",
   "execution_count": 56,
   "metadata": {
    "id": "PiTMMrZYisgl"
   },
   "outputs": [
    {
     "name": "stdout",
     "output_type": "stream",
     "text": [
      "0.0\n"
     ]
    }
   ],
   "source": [
    "print(income_data[\"capital-gain\"].quantile(0.2))"
   ]
  },
  {
   "cell_type": "code",
   "execution_count": 57,
   "metadata": {
    "id": "RqMwTe7mjwgj"
   },
   "outputs": [
    {
     "name": "stdout",
     "output_type": "stream",
     "text": [
      "0.0        0.0\n",
      "0.1        0.0\n",
      "0.2        0.0\n",
      "0.3        0.0\n",
      "0.4        0.0\n",
      "0.5        0.0\n",
      "0.6        0.0\n",
      "0.7        0.0\n",
      "0.8        0.0\n",
      "0.9        0.0\n",
      "1.0    99999.0\n",
      "Name: capital-gain, dtype: float64\n"
     ]
    }
   ],
   "source": [
    "print(income_data[\"capital-gain\"].quantile([0,0.1,0.2,0.3,0.4,0.5,0.6,0.7,0.8,0.9,1]))"
   ]
  },
  {
   "cell_type": "markdown",
   "metadata": {
    "id": "XCNS5Iz7u-uL"
   },
   "source": [
    "The output is not really what we expected. At the first glance it is confusing and not easy to comprehend. Let’s study through the output. There are two columns in the output. First column is the percentile, and the other its value. Which is value?  It is value of the variable, which is capital-gain in this case."
   ]
  },
  {
   "cell_type": "code",
   "execution_count": 58,
   "metadata": {
    "id": "OZWNn1RCjyM_"
   },
   "outputs": [
    {
     "name": "stdout",
     "output_type": "stream",
     "text": [
      "0.90        0.0\n",
      "0.91        0.0\n",
      "0.92     1458.2\n",
      "0.93     2885.0\n",
      "0.94     3818.0\n",
      "0.95     5013.0\n",
      "0.96     7298.0\n",
      "0.97     7688.0\n",
      "0.98    14084.0\n",
      "0.99    15024.0\n",
      "1.00    99999.0\n",
      "Name: capital-gain, dtype: float64\n"
     ]
    }
   ],
   "source": [
    "print(income_data[\"capital-gain\"].quantile([0.9,0.91,0.92,0.93,0.94,0.95,0.96,0.97,0.98,0.99,1]))"
   ]
  },
  {
   "cell_type": "markdown",
   "metadata": {
    "id": "dS90OdnHvayA"
   },
   "source": [
    "As you can see 91 percentiles is zero, from 92 percentile onwards we see some positive values. Which means, 91% of the data is simply zeros, only remaining 9% of the data has some positive values. "
   ]
  },
  {
   "cell_type": "markdown",
   "metadata": {
    "id": "6oBy2iX-39JC"
   },
   "source": [
    "For exploring continuous variables we need to use percentiles. They will not only show you the complete distribution of a variable, but they will also help you in identifying outliers in the process. You can even guess what percentage of the data outliers are. If you have a continuous variable, it can take almost any value. It helps to use percentiles if you wish to get a feel of its distribution."
   ]
  },
  {
   "cell_type": "markdown",
   "metadata": {
    "id": "aei1v7lKCYGZ"
   },
   "source": [
    "**Example of Percentile**\n",
    "\n",
    "Let’s first get the standard percentiles as usual and identify any deep dive areas. For this exercise more than 60 hours is on the higher side and less than 20 lowers. we are not really interested in less than 24 and greater than 55. Let’s start with the deep dive of top 10 percentile. \n",
    "We need to drill down first 10 and last 10 percentiles. As our limits are 20 and 60, "
   ]
  },
  {
   "cell_type": "code",
   "execution_count": 59,
   "metadata": {
    "id": "uKkzLlagkFHf"
   },
   "outputs": [
    {
     "name": "stdout",
     "output_type": "stream",
     "text": [
      "0.0     1.0\n",
      "0.1    24.0\n",
      "0.2    35.0\n",
      "0.3    40.0\n",
      "0.4    40.0\n",
      "0.5    40.0\n",
      "0.6    40.0\n",
      "0.7    40.0\n",
      "0.8    48.0\n",
      "0.9    55.0\n",
      "1.0    99.0\n",
      "Name: hours-per-week, dtype: float64\n",
      "0.90    55.0\n",
      "0.91    55.0\n",
      "0.92    58.0\n",
      "0.93    60.0\n",
      "0.94    60.0\n",
      "0.95    60.0\n",
      "0.96    60.0\n",
      "0.97    65.0\n",
      "0.98    70.0\n",
      "0.99    80.0\n",
      "1.00    99.0\n",
      "Name: hours-per-week, dtype: float64\n",
      "0.00     1.0\n",
      "0.01     8.0\n",
      "0.02    10.0\n",
      "0.03    14.8\n",
      "0.04    15.0\n",
      "0.05    18.0\n",
      "0.06    20.0\n",
      "0.07    20.0\n",
      "0.08    20.0\n",
      "0.09    21.0\n",
      "0.10    24.0\n",
      "Name: hours-per-week, dtype: float64\n"
     ]
    }
   ],
   "source": [
    "print(income_data[\"hours-per-week\"].quantile([0,0.1,0.2,0.3,0.4,0.5,0.6,0.7,0.8,0.9,1]))\n",
    "print(income_data[\"hours-per-week\"].quantile([0.9,0.91,0.92,0.93,0.94,0.95,0.96,0.97,0.98,0.99,1]))\n",
    "print(income_data[\"hours-per-week\"].quantile([0,0.01,0.02,0.03,0.04,0.05,0.06,0.07,0.08,0.09,0.1]))"
   ]
  },
  {
   "cell_type": "markdown",
   "metadata": {
    "id": "OgTrgi-tEboK"
   },
   "source": [
    "Now let’s proceed to detection of outliers on the higher side. The output clearly shows 92% of the data is less than 60 and remaining 8% is more than or equal to 60%, so, 8% can be termed as high side outliers. If we are looking for strictly more than 60 hours, then it is 4% of the data.\n",
    "\n",
    "In the output we can clearly observe 8% of the data is less than or equal to 20 hours. The lower side outlier percentage is 8%. If you are strictly looking for the data less than 20 and ignore values equal to 20 hours, this percentile stands at 5%. "
   ]
  },
  {
   "cell_type": "markdown",
   "metadata": {
    "id": "d4CzS2bCE_fk"
   },
   "source": [
    "**Finally, we have 4% high side outliers and low side 5% outliers. This is how you detect outliers and explore continuous variables.**"
   ]
  },
  {
   "cell_type": "markdown",
   "metadata": {
    "id": "R9RNcsoKk-x2"
   },
   "source": [
    "#### Exploring discrete and categorical variables\n",
    "Categorial variables have certain classes. These classes are nothing but the categories. To explore a categorical variable, we need to create a frequency table, which is much like a group by table or a summary table. A frequency table contains all the available categories (in a given set of data) and frequency counts or number of occurrences of each category type. You will get an idea on all unique classes and their weightage in the given data. "
   ]
  },
  {
   "cell_type": "code",
   "execution_count": 60,
   "metadata": {
    "id": "K2g58Ap1kvMn"
   },
   "outputs": [
    {
     "data": {
      "text/plain": [
       " HS-grad         10501\n",
       " Some-college     7291\n",
       " Bachelors        5355\n",
       " Masters          1723\n",
       " Assoc-voc        1382\n",
       " 11th             1175\n",
       " Assoc-acdm       1067\n",
       " 10th              933\n",
       " 7th-8th           646\n",
       " Prof-school       576\n",
       " 9th               514\n",
       " 12th              433\n",
       " Doctorate         413\n",
       " 5th-6th           333\n",
       " 1st-4th           168\n",
       " Preschool          51\n",
       "Name: education, dtype: int64"
      ]
     },
     "execution_count": 60,
     "metadata": {},
     "output_type": "execute_result"
    }
   ],
   "source": [
    "income_data[\"education\"].value_counts()"
   ]
  },
  {
   "cell_type": "markdown",
   "metadata": {
    "id": "iAHrf78VI14O"
   },
   "source": [
    "**Along with percentage:**\n",
    "we are trying to first create frequency counts, then percentages are calculated using normalize=True option. We then concatenate frequency and percentages into a table. axis=1 , which indicates we are concatenating columns. The parameter keys mentions the actual column names in the resultant table. "
   ]
  },
  {
   "cell_type": "code",
   "execution_count": 61,
   "metadata": {
    "id": "Y07IjVA7lcxI"
   },
   "outputs": [
    {
     "name": "stdout",
     "output_type": "stream",
     "text": [
      "               counts   percent\n",
      " HS-grad        10501  0.322502\n",
      " Some-college    7291  0.223918\n",
      " Bachelors       5355  0.164461\n",
      " Masters         1723  0.052916\n",
      " Assoc-voc       1382  0.042443\n",
      " 11th            1175  0.036086\n",
      " Assoc-acdm      1067  0.032769\n",
      " 10th             933  0.028654\n",
      " 7th-8th          646  0.019840\n",
      " Prof-school      576  0.017690\n",
      " 9th              514  0.015786\n",
      " 12th             433  0.013298\n",
      " Doctorate        413  0.012684\n",
      " 5th-6th          333  0.010227\n",
      " 1st-4th          168  0.005160\n",
      " Preschool         51  0.001566\n"
     ]
    }
   ],
   "source": [
    "freq=income_data[\"education\"].value_counts()\n",
    "percent=income_data[\"education\"].value_counts(normalize=True)\n",
    "freq_table=pd.concat([freq,percent], axis=1, keys=[\"counts\",\"percent\"])\n",
    "print(freq_table)"
   ]
  },
  {
   "cell_type": "code",
   "execution_count": 62,
   "metadata": {
    "id": "0EtzwEnAlfIi"
   },
   "outputs": [
    {
     "data": {
      "text/plain": [
       " Private             22696\n",
       " Self-emp-not-inc     2541\n",
       " Local-gov            2093\n",
       " ?                    1836\n",
       " State-gov            1298\n",
       " Self-emp-inc         1116\n",
       " Federal-gov           960\n",
       " Without-pay            14\n",
       " Never-worked            7\n",
       "Name: workclass, dtype: int64"
      ]
     },
     "execution_count": 62,
     "metadata": {},
     "output_type": "execute_result"
    }
   ],
   "source": [
    "#Frequnecy example -2 \n",
    "income_data[\"workclass\"].value_counts()"
   ]
  },
  {
   "cell_type": "markdown",
   "metadata": {
    "id": "PeB7r4HJJOWJ"
   },
   "source": [
    "**Cross tab:**\n",
    "\n",
    "Only 24% are earning more than 50K in the entire available data. Now let’s create a cross tab by comparing both education and income band. After that we will try get to get the income band distribution in each class of education "
   ]
  },
  {
   "cell_type": "code",
   "execution_count": 113,
   "metadata": {
    "id": "Jp7hhXl8lhOu"
   },
   "outputs": [
    {
     "name": "stdout",
     "output_type": "stream",
     "text": [
      " <=50K    24720\n",
      " >50K      7841\n",
      "Name: Income_band, dtype: int64\n",
      " <=50K    0.75919\n",
      " >50K     0.24081\n",
      "Name: Income_band, dtype: float64\n",
      "Income_band     <=50K   >50K     <=50K      >50K\n",
      "education                                       \n",
      " 10th             871     62  0.933548  0.066452\n",
      " 11th            1115     60  0.948936  0.051064\n",
      " 12th             400     33  0.923788  0.076212\n",
      " 1st-4th          162      6  0.964286  0.035714\n",
      " 5th-6th          317     16  0.951952  0.048048\n",
      " 7th-8th          606     40  0.938080  0.061920\n",
      " 9th              487     27  0.947471  0.052529\n",
      " Assoc-acdm       802    265  0.751640  0.248360\n",
      " Assoc-voc       1021    361  0.738784  0.261216\n",
      " Bachelors       3134   2221  0.585247  0.414753\n",
      " Doctorate        107    306  0.259080  0.740920\n",
      " HS-grad         8826   1675  0.840491  0.159509\n",
      " Masters          764    959  0.443413  0.556587\n",
      " Preschool         51      0  1.000000  0.000000\n",
      " Prof-school      153    423  0.265625  0.734375\n",
      " Some-college    5904   1387  0.809765  0.190235\n"
     ]
    }
   ],
   "source": [
    "#Cross tab\n",
    "print(income_data[\"Income_band\"].value_counts())\n",
    "print(income_data[\"Income_band\"].value_counts(normalize=True))\n",
    "cross_tab=pd.crosstab(income_data[\"education\"],income_data['Income_band'])\n",
    "cross_tab_p=cross_tab.astype(float).div(cross_tab.sum(axis=1), axis=0)\n",
    "final_table=pd.concat([cross_tab,cross_tab_p], axis=1)\n",
    "print(final_table)\n"
   ]
  },
  {
   "cell_type": "code",
   "execution_count": null,
   "metadata": {},
   "outputs": [],
   "source": []
  }
 ],
 "metadata": {
  "colab": {
   "collapsed_sections": [],
   "name": "Chapter-2.ipynb",
   "provenance": []
  },
  "kernelspec": {
   "display_name": "Python 3",
   "language": "python",
   "name": "python3"
  },
  "language_info": {
   "codemirror_mode": {
    "name": "ipython",
    "version": 3
   },
   "file_extension": ".py",
   "mimetype": "text/x-python",
   "name": "python",
   "nbconvert_exporter": "python",
   "pygments_lexer": "ipython3",
   "version": "3.8.8"
  }
 },
 "nbformat": 4,
 "nbformat_minor": 4
}
