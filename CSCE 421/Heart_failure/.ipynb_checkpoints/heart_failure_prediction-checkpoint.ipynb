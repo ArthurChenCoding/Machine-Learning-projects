{
 "cells": [
  {
   "cell_type": "markdown",
   "id": "c064ab19-3ea6-4e0a-8d72-540177bb2b7a",
   "metadata": {},
   "source": [
    "# Heart failure pridiction"
   ]
  },
  {
   "cell_type": "markdown",
   "id": "614a8c0f-16f0-4122-92e5-5f985ce91a9b",
   "metadata": {},
   "source": [
    "Predict if heart failure will happen based on 10 features\n",
    "Compare linear & logistic regression with Lasso & Ridge normalization, Decision Tree, and SVM by their accuracy."
   ]
  },
  {
   "cell_type": "markdown",
   "id": "59d305ac-7f4e-4815-896a-c129ed1c64dd",
   "metadata": {},
   "source": [
    "Imports"
   ]
  },
  {
   "cell_type": "code",
   "execution_count": null,
   "id": "4844c321-0593-41a7-bfc0-918df3c08527",
   "metadata": {},
   "outputs": [],
   "source": [
    "import pandas as pd\n",
    "import numpy as np\n",
    "import matplotlib.pyplot as plt\n",
    "from sklearn.linear_model import Ridge, Lasso\n",
    "from sklearn.metrics import roc_curve, roc_auc_score\n",
    "from sklearn.model_selection import train_test_split"
   ]
  },
  {
   "cell_type": "markdown",
   "id": "da45dcd2-d05e-49db-ae16-a92114bbe96d",
   "metadata": {},
   "source": [
    "Read, drop nan, numericalizing the data"
   ]
  },
  {
   "cell_type": "code",
   "execution_count": null,
   "id": "c063c372-d3f2-427e-8a1e-3204aa0accc2",
   "metadata": {},
   "outputs": [],
   "source": [
    "d = pd.read_csv('heart.csv')\n",
    "df = pd.DataFrame(data=d)\n",
    "df.dropna(inplace=True)\n",
    "features = df.loc[:, df.columns != 'HeartDisease']\n",
    "label = df['HeartDisease']\n",
    "categorical = features.select_dtypes(exclude = ['int64', 'float64'])\n",
    "categorical = pd.get_dummies(categorical, columns=['Sex', 'ChestPainType', 'RestingECG', 'ExerciseAngina', 'ST_Slope'])\n",
    "numerical = features.select_dtypes(include = ['int64', 'float64'])\n",
    "features = pd.concat([categorical, numerical], axis=1)\n",
    "x = features\n",
    "y = label"
   ]
  }
 ],
 "metadata": {
  "kernelspec": {
   "display_name": "Python 3",
   "language": "python",
   "name": "python3"
  },
  "language_info": {
   "codemirror_mode": {
    "name": "ipython",
    "version": 3
   },
   "file_extension": ".py",
   "mimetype": "text/x-python",
   "name": "python",
   "nbconvert_exporter": "python",
   "pygments_lexer": "ipython3",
   "version": "3.8.8"
  }
 },
 "nbformat": 4,
 "nbformat_minor": 5
}
